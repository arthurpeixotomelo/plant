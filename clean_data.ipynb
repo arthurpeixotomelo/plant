{
 "cells": [
  {
   "cell_type": "code",
   "execution_count": 1,
   "metadata": {},
   "outputs": [],
   "source": [
    "from os import listdir\n",
    "from datetime import timedelta\n",
    "from warnings import simplefilter\n",
    "\n",
    "import numpy as np\n",
    "import pandas as pd\n",
    "\n",
    "simplefilter(\"ignore\")"
   ]
  },
  {
   "cell_type": "markdown",
   "metadata": {},
   "source": [
    "# Concatenar Arquivos 2024-01"
   ]
  },
  {
   "cell_type": "code",
   "execution_count": 8,
   "metadata": {},
   "outputs": [],
   "source": [
    "df_list = []\n",
    "for file in listdir('./Coletas/Excaulebur/2024-1'):\n",
    "    df = pd.read_csv(f'./Coletas/Excaulebur/2024-1/{file}', encoding='unicode_escape', engine='python')\n",
    "    file = file.replace('-A', '').replace('-B', '')\n",
    "    df['Data'] = pd.to_datetime(file.split('.')[0][-10:], format='%Y-%m-%d', yearfirst=True)\n",
    "    df['Data'] = df[['Data', 'Hora']].apply(\n",
    "        lambda x: x[0] + pd.DateOffset(1) if str(x[1]) >= str('00:00:00') \n",
    "        and str(x[1]) < str('06:00:00') else x[0], axis=1\n",
    "    )\n",
    "    df_list.append(df)\n",
    "df = pd.concat(df_list, ignore_index=True).sort_values(by=['Data', 'Hora'])\n",
    "df['Temperatura'] = df['Temperatura'].apply(lambda x: round(float(x[:4]) * 0.01, 3))\n",
    "df['Umidade'] = df['Umidade'].apply(lambda x: round(int(x[:2]) * 0.01, 2))\n",
    "df['DataHora'] = pd.to_datetime(df['Data'].dt.strftime('%Y-%m-%d') + ' ' + df['Hora'])\n",
    "df.drop(['Data', 'Hora'], axis=1, inplace=True)\n",
    "df.to_csv('./Coletas/Excaulebur/Excaulebur_2024-01.csv', index=False)"
   ]
  },
  {
   "cell_type": "code",
   "execution_count": 9,
   "metadata": {},
   "outputs": [],
   "source": [
    "df_list = []\n",
    "for file in listdir('./Coletas/Totosa/2024-1'):\n",
    "    if 'testA' in file:\n",
    "        continue\n",
    "    df = pd.read_csv(f'./Coletas/Totosa/2024-1/{file}', encoding='unicode_escape', engine='python')\n",
    "    df['Data'] = pd.to_datetime(file.split('.')[0][-10:], format='%Y-%m-%d', yearfirst=True)\n",
    "    df['Data'] = df[['Data', 'Hora']].apply(\n",
    "        lambda x: x[0] + pd.DateOffset(1) if str(x[1]) >= str('00:00:00') \n",
    "        and str(x[1]) < str('06:00:00') else x[0], axis=1\n",
    "    )\n",
    "    df_list.append(df)\n",
    "df = pd.concat(df_list, ignore_index=True).sort_values(by=['Data', 'Hora'])\n",
    "df['Temperatura'] = df['Temperatura'].apply(lambda x: round(float(x[:4]) * 0.01, 3))\n",
    "df['Umidade'] = df['Umidade'].apply(lambda x: round(int(x[:2]) * 0.01, 2))\n",
    "df['DataHora'] = pd.to_datetime(df['Data'].dt.strftime('%Y-%m-%d') + ' ' + df['Hora'])\n",
    "df.drop(['Data', 'Hora'], axis=1, inplace=True)\n",
    "df.to_csv('./Coletas/Totosa/Totosa_2024-01.csv', index=False)"
   ]
  },
  {
   "cell_type": "markdown",
   "metadata": {},
   "source": [
    "# Concatenar Arquivos 2024-02"
   ]
  },
  {
   "cell_type": "code",
   "execution_count": 10,
   "metadata": {},
   "outputs": [],
   "source": [
    "df_list = []\n",
    "for path in listdir('./sensor/'):\n",
    "    for file in listdir(f'./sensor/{path}/'):\n",
    "        if '_mes_09' in file:\n",
    "            continue\n",
    "        df = pd.read_excel(f'./sensor/{path}/{file}', engine='openpyxl')\n",
    "        df['Start'] = pd.to_datetime(df['DateTime'])\n",
    "        df.drop(['DateTime'], axis=1, inplace=True)\n",
    "        df_list.append(df)\n",
    "temp_df = pd.concat(df_list, ignore_index=True)\n",
    "temp_df.columns = ['Temperatura_Sensor', 'Start', 'Umidade_Sensor']\n",
    "temp_df = temp_df.groupby('Start')[['Temperatura_Sensor', 'Umidade_Sensor']].first()\n",
    "temp_df.reset_index(inplace=True)\n",
    "temp_df['Temperatura_Sensor'] = temp_df['Temperatura_Sensor'].apply(lambda x: round(x * 0.01, 3))\n",
    "temp_df['Umidade_Sensor'] = temp_df['Umidade_Sensor'].apply(lambda x: round(x * 0.01, 2))\n",
    "temp_df.to_csv('./sensor/Sensor.csv', index=False)\n",
    "temp_df['End'] = temp_df['Start'] + timedelta(hours=1)"
   ]
  },
  {
   "cell_type": "code",
   "execution_count": 11,
   "metadata": {},
   "outputs": [],
   "source": [
    "df_list = []\n",
    "for file in listdir('./Coletas/Excaulebur/2024-2'):\n",
    "    if file.endswith('.csv'):\n",
    "        df = pd.read_csv(f'./Coletas/Excaulebur/2024-2/{file}', encoding='unicode_escape', engine='python')\n",
    "        df['Temperatura'] = np.nan\n",
    "        df['Umidade'] = np.nan\n",
    "    elif file.endswith('.xlsx'):\n",
    "        df = pd.read_excel(f'./Coletas/Excaulebur/2024-2/{file}', engine='openpyxl')\n",
    "        df['Temperatura'] = df['Temperatura'].apply(lambda x: x if type(x) == float else round(float(x.replace(',', '.').replace('°C', '')) * 0.01, 3))\n",
    "        df['Dia'] = df['Dia'].dt.strftime('%Y-%m-%d')\n",
    "    df_list.append(df)\n",
    "plant_df = pd.concat(df_list, ignore_index=True)\n",
    "plant_df['DataHora'] = pd.to_datetime(plant_df['Dia'] + ' ' + plant_df['Hora'])\n",
    "plant_df.drop(['Dia', 'Hora'], axis=1, inplace=True)\n",
    "plant_df.drop_duplicates(ignore_index=True, inplace=True)"
   ]
  },
  {
   "cell_type": "code",
   "execution_count": 12,
   "metadata": {},
   "outputs": [],
   "source": [
    "dt = plant_df.DataHora.values\n",
    "sdt = temp_df.Start.values\n",
    "edt = temp_df.End.values\n",
    "\n",
    "i, j = np.where((dt[:, None] >= sdt) & (dt[:, None] < edt))\n",
    "\n",
    "plant_df = pd.concat([\n",
    "    plant_df.loc[i, :].reset_index(drop=True),\n",
    "    temp_df.loc[j, :].reset_index(drop=True)\n",
    "], axis=1)\n",
    "\n",
    "plant_df['Temperatura'] = plant_df['Temperatura'].fillna(plant_df['Temperatura_Sensor'])\n",
    "plant_df['Umidade'] = plant_df['Umidade'].fillna(plant_df['Umidade_Sensor'])\n",
    "plant_df = plant_df[['Valor do sinal', 'Temperatura', 'Umidade', 'DataHora']]\n",
    "plant_df.to_csv('./Coletas/Excaulebur/Excaulebur_2024-02.csv', index=False)"
   ]
  },
  {
   "cell_type": "code",
   "execution_count": 13,
   "metadata": {},
   "outputs": [],
   "source": [
    "df_list = []\n",
    "for file in listdir('./Coletas/Totosa/2024-2'):\n",
    "    if file.endswith('.xlsx'):\n",
    "        df = pd.read_excel(f'./Coletas/Totosa/2024-2/{file}', engine='openpyxl')\n",
    "        df['Temperatura'] = df['Temperatura'].apply(lambda x: x if type(x) == float else round(float(x.replace(',', '.').replace('°C', '')) * 0.01, 3))\n",
    "        df['Dia'] = df['Dia'].dt.strftime('%Y-%m-%d')\n",
    "    df_list.append(df)\n",
    "plant_df = pd.concat(df_list, ignore_index=True)\n",
    "plant_df['DataHora'] = pd.to_datetime(plant_df['Dia'] + ' ' + plant_df['Hora'])\n",
    "plant_df.drop(['Dia', 'Hora'], axis=1, inplace=True)\n",
    "plant_df.drop_duplicates(ignore_index=True, inplace=True)"
   ]
  },
  {
   "cell_type": "code",
   "execution_count": 14,
   "metadata": {},
   "outputs": [],
   "source": [
    "dt = plant_df.DataHora.values\n",
    "sdt = temp_df.Start.values\n",
    "edt = temp_df.End.values\n",
    "\n",
    "i, j = np.where((dt[:, None] >= sdt) & (dt[:, None] < edt))\n",
    "\n",
    "plant_df = pd.concat([\n",
    "    plant_df.loc[i, :].reset_index(drop=True),\n",
    "    temp_df.loc[j, :].reset_index(drop=True)\n",
    "], axis=1)\n",
    "\n",
    "plant_df['Temperatura'] = plant_df['Temperatura'].fillna(plant_df['Temperatura_Sensor'])\n",
    "plant_df['Umidade'] = plant_df['Umidade'].fillna(plant_df['Umidade_Sensor'])\n",
    "plant_df = plant_df[['Valor do sinal', 'Temperatura', 'Umidade', 'DataHora']]\n",
    "plant_df.to_csv('./Coletas/Totosa/Totosa_2024-02.csv', index=False)"
   ]
  },
  {
   "cell_type": "code",
   "execution_count": 2,
   "metadata": {},
   "outputs": [],
   "source": [
    "df = pd.concat(pd.read_csv(f'./Coletas/Excaulebur/{file}') for file in listdir('./Coletas/Excaulebur/') if file.endswith('.csv'))\n",
    "df.drop_duplicates(ignore_index=True, inplace=True)\n",
    "df.to_csv('./Coletas/Excaulebur/Excaulebur.csv', index=False)"
   ]
  },
  {
   "cell_type": "code",
   "execution_count": 3,
   "metadata": {},
   "outputs": [],
   "source": [
    "df = pd.concat(pd.read_csv(f'./Coletas/Totosa/{file}') for file in listdir('./Coletas/Totosa/') if file.endswith('.csv'))\n",
    "df.drop_duplicates(ignore_index=True, inplace=True)\n",
    "df.to_csv('./Coletas/Totosa/Totosa.csv', index=False)"
   ]
  }
 ],
 "metadata": {
  "kernelspec": {
   "display_name": "Python 3",
   "language": "python",
   "name": "python3"
  },
  "language_info": {
   "codemirror_mode": {
    "name": "ipython",
    "version": 3
   },
   "file_extension": ".py",
   "mimetype": "text/x-python",
   "name": "python",
   "nbconvert_exporter": "python",
   "pygments_lexer": "ipython3",
   "version": "3.12.1"
  }
 },
 "nbformat": 4,
 "nbformat_minor": 2
}
