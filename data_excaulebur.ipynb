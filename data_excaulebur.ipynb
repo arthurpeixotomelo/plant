{
 "cells": [
  {
   "cell_type": "code",
   "execution_count": 2,
   "metadata": {},
   "outputs": [],
   "source": [
    "import pandas as pd\n",
    "import matplotlib.pyplot as plt"
   ]
  },
  {
   "cell_type": "code",
   "execution_count": 3,
   "metadata": {},
   "outputs": [
    {
     "data": {
      "text/html": [
       "<div>\n",
       "<style scoped>\n",
       "    .dataframe tbody tr th:only-of-type {\n",
       "        vertical-align: middle;\n",
       "    }\n",
       "\n",
       "    .dataframe tbody tr th {\n",
       "        vertical-align: top;\n",
       "    }\n",
       "\n",
       "    .dataframe thead th {\n",
       "        text-align: right;\n",
       "    }\n",
       "</style>\n",
       "<table border=\"1\" class=\"dataframe\">\n",
       "  <thead>\n",
       "    <tr style=\"text-align: right;\">\n",
       "      <th></th>\n",
       "      <th>Valor do sinal</th>\n",
       "      <th>Temperatura</th>\n",
       "      <th>Umidade</th>\n",
       "      <th>DataHora</th>\n",
       "    </tr>\n",
       "  </thead>\n",
       "  <tbody>\n",
       "    <tr>\n",
       "      <th>0</th>\n",
       "      <td>-0.140625</td>\n",
       "      <td>0.274</td>\n",
       "      <td>0.69</td>\n",
       "      <td>2024-04-04 17:36:46</td>\n",
       "    </tr>\n",
       "    <tr>\n",
       "      <th>1</th>\n",
       "      <td>-0.089844</td>\n",
       "      <td>0.274</td>\n",
       "      <td>0.69</td>\n",
       "      <td>2024-04-04 17:37:02</td>\n",
       "    </tr>\n",
       "    <tr>\n",
       "      <th>2</th>\n",
       "      <td>-0.183594</td>\n",
       "      <td>0.274</td>\n",
       "      <td>0.69</td>\n",
       "      <td>2024-04-04 17:37:18</td>\n",
       "    </tr>\n",
       "    <tr>\n",
       "      <th>3</th>\n",
       "      <td>-0.191406</td>\n",
       "      <td>0.274</td>\n",
       "      <td>0.69</td>\n",
       "      <td>2024-04-04 17:37:35</td>\n",
       "    </tr>\n",
       "    <tr>\n",
       "      <th>4</th>\n",
       "      <td>-0.060547</td>\n",
       "      <td>0.274</td>\n",
       "      <td>0.69</td>\n",
       "      <td>2024-04-04 17:37:51</td>\n",
       "    </tr>\n",
       "    <tr>\n",
       "      <th>...</th>\n",
       "      <td>...</td>\n",
       "      <td>...</td>\n",
       "      <td>...</td>\n",
       "      <td>...</td>\n",
       "    </tr>\n",
       "    <tr>\n",
       "      <th>58108</th>\n",
       "      <td>-0.220703</td>\n",
       "      <td>0.285</td>\n",
       "      <td>0.58</td>\n",
       "      <td>2024-09-25 00:14:27</td>\n",
       "    </tr>\n",
       "    <tr>\n",
       "      <th>58109</th>\n",
       "      <td>-0.009766</td>\n",
       "      <td>0.285</td>\n",
       "      <td>0.58</td>\n",
       "      <td>2024-09-25 00:14:42</td>\n",
       "    </tr>\n",
       "    <tr>\n",
       "      <th>58110</th>\n",
       "      <td>0.033203</td>\n",
       "      <td>0.285</td>\n",
       "      <td>0.58</td>\n",
       "      <td>2024-09-25 00:14:57</td>\n",
       "    </tr>\n",
       "    <tr>\n",
       "      <th>58111</th>\n",
       "      <td>-0.207031</td>\n",
       "      <td>0.285</td>\n",
       "      <td>0.58</td>\n",
       "      <td>2024-09-25 00:15:12</td>\n",
       "    </tr>\n",
       "    <tr>\n",
       "      <th>58112</th>\n",
       "      <td>-0.197266</td>\n",
       "      <td>0.285</td>\n",
       "      <td>0.58</td>\n",
       "      <td>2024-09-25 00:15:27</td>\n",
       "    </tr>\n",
       "  </tbody>\n",
       "</table>\n",
       "<p>58048 rows × 4 columns</p>\n",
       "</div>"
      ],
      "text/plain": [
       "       Valor do sinal  Temperatura  Umidade             DataHora\n",
       "0           -0.140625        0.274     0.69  2024-04-04 17:36:46\n",
       "1           -0.089844        0.274     0.69  2024-04-04 17:37:02\n",
       "2           -0.183594        0.274     0.69  2024-04-04 17:37:18\n",
       "3           -0.191406        0.274     0.69  2024-04-04 17:37:35\n",
       "4           -0.060547        0.274     0.69  2024-04-04 17:37:51\n",
       "...               ...          ...      ...                  ...\n",
       "58108       -0.220703        0.285     0.58  2024-09-25 00:14:27\n",
       "58109       -0.009766        0.285     0.58  2024-09-25 00:14:42\n",
       "58110        0.033203        0.285     0.58  2024-09-25 00:14:57\n",
       "58111       -0.207031        0.285     0.58  2024-09-25 00:15:12\n",
       "58112       -0.197266        0.285     0.58  2024-09-25 00:15:27\n",
       "\n",
       "[58048 rows x 4 columns]"
      ]
     },
     "execution_count": 3,
     "metadata": {},
     "output_type": "execute_result"
    }
   ],
   "source": [
    "df = pd.read_csv('./Coletas/Excaulebur/Excaulebur.csv', engine='python')\n",
    "df = df[(df['Valor do sinal'] <= 1) & (df['Valor do sinal'] >= -1)]\n",
    "df"
   ]
  },
  {
   "cell_type": "code",
   "execution_count": null,
   "metadata": {},
   "outputs": [],
   "source": [
    "df[df['Valor do sinal'] < 1].plot(kind='hist', y='Valor do sinal', figsize=(16, 8))\n",
    "plt.show()"
   ]
  },
  {
   "cell_type": "code",
   "execution_count": null,
   "metadata": {},
   "outputs": [],
   "source": [
    "df_h_vs = df[df['Valor do sinal'] < 1].copy()\n",
    "df_h_vs['Hora'] = df_h_vs['Hora'].apply(lambda x: x[:2])\n",
    "df_h_vs['Valor do sinal'] = pd.cut(\n",
    "    df_h_vs['Valor do sinal'], bins=[-1.0, -0.75, -0.5, -0.25, 0.0, 0.25, 0.5, 0.75, 1.0], \n",
    "    labels=[-1.0, -0.75, -0.5, -0.25, 0.0, 0.25, 0.5, 0.75]\n",
    ")\n",
    "df_h_vs['Intensidade'] = df_h_vs['Valor do sinal'].apply(lambda x: abs(x) * 100 if x != 0.0 else 5.0)\n",
    "df_h_vs.plot(kind='scatter', x='Hora', y='Valor do sinal', s='Intensidade', figsize=(16, 8))\n",
    "plt.show()"
   ]
  },
  {
   "cell_type": "code",
   "execution_count": null,
   "metadata": {},
   "outputs": [],
   "source": [
    "df_s_1 = df[df['Data'] <= '2024-04-10']\n",
    "df_s_1.plot(kind='line', x='Data', y=['Valor do sinal', 'Temperatura', 'Umidade'], figsize=(16, 8))\n",
    "plt.show()"
   ]
  },
  {
   "cell_type": "code",
   "execution_count": null,
   "metadata": {},
   "outputs": [],
   "source": [
    "df_s_2 = df[(df['Data'] < '2024-04-20') & (df['Data'] >= '2024-04-11')]\n",
    "df_s_2.plot(kind='line', x='Data', y=['Valor do sinal', 'Temperatura', 'Umidade'], figsize=(16, 8))\n",
    "plt.show()"
   ]
  },
  {
   "cell_type": "code",
   "execution_count": null,
   "metadata": {},
   "outputs": [],
   "source": [
    "df_s_3 = df[df['Data'] >= '2024-04-20']\n",
    "df_s_3.plot(kind='line', x='Data', y=['Valor do sinal', 'Temperatura', 'Umidade'], figsize=(16, 8))\n",
    "plt.show()"
   ]
  },
  {
   "cell_type": "code",
   "execution_count": null,
   "metadata": {},
   "outputs": [],
   "source": [
    "df_d_1 = df[(df['Data'] >= '2024-04-04') & (df['Data'] <= '2024-04-05')]\n",
    "df_d_1.plot(kind='line', x='Hora', y=['Valor do sinal', 'Temperatura', 'Umidade'], figsize=(16, 8))\n",
    "plt.show()"
   ]
  },
  {
   "cell_type": "code",
   "execution_count": null,
   "metadata": {},
   "outputs": [],
   "source": [
    "df_d_2 = df[(df['Data'] >= '2024-04-06') & (df['Data'] <= '2024-04-07')]\n",
    "df_d_2.plot(kind='line', x='Hora', y=['Valor do sinal', 'Temperatura', 'Umidade'], figsize=(16, 8))\n",
    "plt.show()"
   ]
  },
  {
   "cell_type": "code",
   "execution_count": null,
   "metadata": {},
   "outputs": [],
   "source": [
    "df_d_3 = df[(df['Data'] >= '2024-04-09') & (df['Data'] <= '2024-04-10')]\n",
    "df_d_3.plot(kind='line', x='Hora', y=['Valor do sinal', 'Temperatura', 'Umidade'], figsize=(16, 8))\n",
    "plt.show()"
   ]
  },
  {
   "cell_type": "code",
   "execution_count": null,
   "metadata": {},
   "outputs": [],
   "source": [
    "df_d_3 = df[(df['Data'] >= '2024-04-11') & (df['Data'] <= '2024-04-12')]\n",
    "df_d_3.plot(kind='line', x='Hora', y=['Valor do sinal', 'Temperatura', 'Umidade'], figsize=(16, 8))\n",
    "plt.show()"
   ]
  },
  {
   "cell_type": "code",
   "execution_count": null,
   "metadata": {},
   "outputs": [],
   "source": [
    "df_d_3 = df[(df['Data'] >= '2024-04-16') & (df['Data'] <= '2024-04-17')]\n",
    "df_d_3.plot(kind='line', x='Hora', y=['Valor do sinal', 'Temperatura', 'Umidade'], figsize=(16, 8))\n",
    "plt.show()"
   ]
  },
  {
   "cell_type": "code",
   "execution_count": null,
   "metadata": {},
   "outputs": [],
   "source": [
    "df_d_3 = df[(df['Data'] >= '2024-04-18') & (df['Data'] <= '2024-04-19')]\n",
    "df_d_3.plot(kind='line', x='Hora', y=['Valor do sinal', 'Temperatura', 'Umidade'], figsize=(16, 8))\n",
    "plt.show()"
   ]
  },
  {
   "cell_type": "code",
   "execution_count": null,
   "metadata": {},
   "outputs": [],
   "source": [
    "df_d_3 = df[(df['Data'] >= '2024-04-20') & (df['Data'] <= '2024-04-21')]\n",
    "df_d_3.plot(kind='line', x='Hora', y=['Valor do sinal', 'Temperatura', 'Umidade'], figsize=(16, 8))\n",
    "plt.show()"
   ]
  },
  {
   "cell_type": "code",
   "execution_count": null,
   "metadata": {},
   "outputs": [],
   "source": [
    "df_d_3 = df[(df['Data'] >= '2024-04-29') & (df['Data'] <= '2024-04-30')]\n",
    "df_d_3.plot(kind='line', x='Hora', y=['Valor do sinal', 'Temperatura', 'Umidade'], figsize=(16, 8))\n",
    "plt.show()"
   ]
  },
  {
   "cell_type": "code",
   "execution_count": null,
   "metadata": {},
   "outputs": [],
   "source": [
    "df_d_3 = df[(df['Data'] >= '2024-05-07') & (df['Data'] <= '2024-05-08')]\n",
    "df_d_3.plot(kind='line', x='Hora', y=['Valor do sinal', 'Temperatura', 'Umidade'], figsize=(16, 8))\n",
    "plt.show()"
   ]
  }
 ],
 "metadata": {
  "kernelspec": {
   "display_name": "Python 3",
   "language": "python",
   "name": "python3"
  },
  "language_info": {
   "codemirror_mode": {
    "name": "ipython",
    "version": 3
   },
   "file_extension": ".py",
   "mimetype": "text/x-python",
   "name": "python",
   "nbconvert_exporter": "python",
   "pygments_lexer": "ipython3",
   "version": "3.12.1"
  }
 },
 "nbformat": 4,
 "nbformat_minor": 2
}
